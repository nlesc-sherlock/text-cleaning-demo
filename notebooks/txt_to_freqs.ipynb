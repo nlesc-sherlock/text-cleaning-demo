{
 "cells": [
  {
   "cell_type": "markdown",
   "metadata": {},
   "source": [
    "# Parse text to frequencies"
   ]
  },
  {
   "cell_type": "markdown",
   "metadata": {},
   "source": [
    "This generates a cwl workflow that takes raw text document as inputs, parses them with frog (for dutch) and counts the frequencies of the words in the documents."
   ]
  },
  {
   "cell_type": "code",
   "execution_count": 1,
   "metadata": {
    "collapsed": true
   },
   "outputs": [],
   "source": [
    "from nlppln import WorkflowGenerator"
   ]
  },
  {
   "cell_type": "code",
   "execution_count": null,
   "metadata": {
    "collapsed": true
   },
   "outputs": [],
   "source": [
    "wf = WorkflowGenerator()"
   ]
  },
  {
   "cell_type": "code",
   "execution_count": null,
   "metadata": {
    "collapsed": true
   },
   "outputs": [],
   "source": [
    "txt_dir = wf.add_inputs(txt_dir='Directory')\n",
    "frogout = wf.frog_dir(dir_in=txt_dir)\n",
    "saf = wf.frog_to_saf(in_files=frogout)\n",
    "txt = wf.saf_to_txt(in_files=saf)\n",
    "freqs = wf.freqs(in_files=txt)"
   ]
  },
  {
   "cell_type": "code",
   "execution_count": null,
   "metadata": {
    "collapsed": true
   },
   "outputs": [],
   "source": [
    "wf.add_outputs(frogout=frogout)\n",
    "wf.add_outputs(txt=txt)\n",
    "wf.add_outputs(freqs=freqs)"
   ]
  },
  {
   "cell_type": "code",
   "execution_count": null,
   "metadata": {
    "collapsed": true
   },
   "outputs": [],
   "source": [
    "wf.save('text_to_freqs.cwl')"
   ]
  },
  {
   "cell_type": "markdown",
   "metadata": {},
   "source": [
    "Run the workflow from the command line as follows:\n",
    "\n",
    "`cwl-runner text_to_freqs.cwl --text_dir path/to/textfiles`\n",
    "\n",
    "It will output all files in the current working directory."
   ]
  },
  {
   "cell_type": "code",
   "execution_count": null,
   "metadata": {
    "collapsed": true
   },
   "outputs": [],
   "source": []
  }
 ],
 "metadata": {
  "anaconda-cloud": {},
  "kernelspec": {
   "display_name": "Python [conda env:nlppln]",
   "language": "python",
   "name": "conda-env-nlppln-py"
  },
  "language_info": {
   "codemirror_mode": {
    "name": "ipython",
    "version": 2
   },
   "file_extension": ".py",
   "mimetype": "text/x-python",
   "name": "python",
   "nbconvert_exporter": "python",
   "pygments_lexer": "ipython2",
   "version": "2.7.13"
  }
 },
 "nbformat": 4,
 "nbformat_minor": 0
}
