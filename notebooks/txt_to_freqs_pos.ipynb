{
 "cells": [
  {
   "cell_type": "markdown",
   "metadata": {},
   "source": [
    "# Parse text to frequencies"
   ]
  },
  {
   "cell_type": "markdown",
   "metadata": {},
   "source": [
    "This generates a cwl workflow that takes raw text document as inputs, parses them with frog (for dutch) and counts the frequencies of the words in the documents."
   ]
  },
  {
   "cell_type": "code",
   "execution_count": 1,
   "metadata": {
    "collapsed": true
   },
   "outputs": [],
   "source": [
    "from nlppln import WorkflowGenerator"
   ]
  },
  {
   "cell_type": "code",
   "execution_count": 2,
   "metadata": {
    "collapsed": false
   },
   "outputs": [
    {
     "name": "stderr",
     "output_type": "stream",
     "text": [
      "WARNING:root:../../nlppln/cwl/tar-untar.cwl:15:1: checking field `steps`\n",
      "../../nlppln/cwl/tar-untar.cwl:16:3:   checking object `../../nlppln/cwl/tar-untar.cwl#tar`\n",
      "../../nlppln/cwl/tar-untar.cwl:17:5:     Field `run` contains undefined reference to `file:///home/dafne/Sherlock/nlppln/steps/tar.cwl`\n",
      "../../nlppln/cwl/tar-untar.cwl:24:3:   checking object `../../nlppln/cwl/tar-untar.cwl#untar`\n",
      "../../nlppln/cwl/tar-untar.cwl:25:5:     Field `run` contains undefined reference to `file:///home/dafne/Sherlock/nlppln/steps/untar.cwl`\n"
     ]
    }
   ],
   "source": [
    "wf = WorkflowGenerator()"
   ]
  },
  {
   "cell_type": "code",
   "execution_count": 3,
   "metadata": {
    "collapsed": true
   },
   "outputs": [],
   "source": [
    "mode = 'word'"
   ]
  },
  {
   "cell_type": "code",
   "execution_count": 4,
   "metadata": {
    "collapsed": true
   },
   "outputs": [],
   "source": [
    "txt_dir = wf.add_inputs(txt_dir='Directory')\n",
    "frogout = wf.frog_dir(dir_in=txt_dir)\n",
    "saf = wf.frog_to_saf(in_files=frogout, mode=mode)\n",
    "freqs = wf.saf_to_freqs(in_files=saf)"
   ]
  },
  {
   "cell_type": "code",
   "execution_count": 5,
   "metadata": {
    "collapsed": true
   },
   "outputs": [],
   "source": [
    "wf.add_outputs(frogout=frogout)\n",
    "wf.add_outputs(saf=saf)\n",
    "wf.add_outputs(freqs=freqs)"
   ]
  },
  {
   "cell_type": "code",
   "execution_count": 6,
   "metadata": {
    "collapsed": true
   },
   "outputs": [],
   "source": [
    "wf.save('text_to_freqs_pos.cwl')"
   ]
  },
  {
   "cell_type": "markdown",
   "metadata": {},
   "source": [
    "Run the workflow from the command line as follows:\n",
    "\n",
    "`cwl-runner text_to_freqs_pos.cwl --txt_dir path/to/textfiles`\n",
    "\n",
    "It will output all files in the current working directory."
   ]
  },
  {
   "cell_type": "code",
   "execution_count": null,
   "metadata": {
    "collapsed": true
   },
   "outputs": [],
   "source": []
  }
 ],
 "metadata": {
  "anaconda-cloud": {},
  "kernelspec": {
   "display_name": "Python [conda env:nlppln]",
   "language": "python",
   "name": "conda-env-nlppln-py"
  },
  "language_info": {
   "codemirror_mode": {
    "name": "ipython",
    "version": 2
   },
   "file_extension": ".py",
   "mimetype": "text/x-python",
   "name": "python",
   "nbconvert_exporter": "python",
   "pygments_lexer": "ipython2",
   "version": "2.7.13"
  }
 },
 "nbformat": 4,
 "nbformat_minor": 0
}
